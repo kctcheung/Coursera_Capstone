{
    "nbformat_minor": 1, 
    "cells": [
        {
            "execution_count": 23, 
            "cell_type": "code", 
            "metadata": {}, 
            "outputs": [
                {
                    "output_type": "stream", 
                    "name": "stdout", 
                    "text": "Requirement not upgraded as not directly required: beautifulsoup4 in /opt/conda/envs/DSX-Python35/lib/python3.5/site-packages\r\n"
                }
            ], 
            "source": "!pip install beautifulsoup4"
        }, 
        {
            "execution_count": 24, 
            "cell_type": "code", 
            "metadata": {}, 
            "outputs": [
                {
                    "output_type": "stream", 
                    "name": "stdout", 
                    "text": "Requirement not upgraded as not directly required: lxml in /opt/conda/envs/DSX-Python35/lib/python3.5/site-packages\r\n"
                }
            ], 
            "source": "!pip install lxml"
        }, 
        {
            "execution_count": 25, 
            "cell_type": "code", 
            "metadata": {}, 
            "outputs": [], 
            "source": "from bs4 import BeautifulSoup\nimport requests\nimport csv\nimport pandas as pd"
        }, 
        {
            "source": "scrape the following Wikipedia page, https://en.wikipedia.org/wiki/List_of_postal_codes_of_Canada:_M, in order to obtain the data that is in the table of postal codes and to transform the data into a pandas dataframe", 
            "cell_type": "markdown", 
            "metadata": {}
        }, 
        {
            "execution_count": 26, 
            "cell_type": "code", 
            "metadata": {}, 
            "outputs": [], 
            "source": "source = requests.get('https://en.wikipedia.org/wiki/List_of_postal_codes_of_Canada:_M').text\n\nsoup = BeautifulSoup(source, 'lxml')"
        }, 
        {
            "source": "* The dataframe will consist of three columns: PostalCode, Borough, and Neighborhood\n* Only process the cells that have an assigned borough. Ignore cells with a borough that is Not assigned.\n* More than one neighborhood can exist in one postal code area. For example, in the table on the Wikipedia page, you will notice that M5A is listed twice and has two neighborhoods: Harbourfront and Regent Park. These two rows will be combined into one row with the neighborhoods separated with a comma as shown in row 11 in the above table.\n* If a cell has a borough but a Not assigned neighborhood, then the neighborhood will be the same as the borough. So for the 9th cell in the table on the Wikipedia page, the value of the Borough and the Neighborhood columns will be Queen's Park.", 
            "cell_type": "markdown", 
            "metadata": {}
        }, 
        {
            "execution_count": 27, 
            "cell_type": "code", 
            "metadata": {}, 
            "outputs": [], 
            "source": "table = soup.find('table', attrs={'class':'wikitable sortable'})\ntable_rows = table.find_all('tr')"
        }, 
        {
            "execution_count": 28, 
            "cell_type": "code", 
            "metadata": {}, 
            "outputs": [
                {
                    "execution_count": 28, 
                    "metadata": {}, 
                    "data": {
                        "text/html": "<div>\n<style scoped>\n    .dataframe tbody tr th:only-of-type {\n        vertical-align: middle;\n    }\n\n    .dataframe tbody tr th {\n        vertical-align: top;\n    }\n\n    .dataframe thead th {\n        text-align: right;\n    }\n</style>\n<table border=\"1\" class=\"dataframe\">\n  <thead>\n    <tr style=\"text-align: right;\">\n      <th></th>\n      <th>PostalCode</th>\n      <th>Borough</th>\n      <th>Neighborhood</th>\n    </tr>\n  </thead>\n  <tbody>\n    <tr>\n      <th>8</th>\n      <td>M7A</td>\n      <td>Queen's Park</td>\n      <td>Queen's Park</td>\n    </tr>\n  </tbody>\n</table>\n</div>", 
                        "text/plain": "  PostalCode       Borough  Neighborhood\n8        M7A  Queen's Park  Queen's Park"
                    }, 
                    "output_type": "execute_result"
                }
            ], 
            "source": "# Extract all the <td> into a list\nres = []\nfor tr in table_rows:\n    td = tr.find_all('td')\n    row = [tr.text.strip() for tr in td if tr.text.strip()]\n    if row:\n        res.append(row)\n\n\n# The dataframe will consist of three columns: PostalCode, Borough, and Neighborhood\ndf = pd.DataFrame(res, columns=[\"PostalCode\", \"Borough\", \"Neighborhood\"])\n\n# Only process the cells that have an assigned borough. Ignore cells with a borough that is Not assigned.\ndf = df[df[\"Borough\"] != \"Not assigned\"]\n\n# If a cell has a borough but a Not assigned neighborhood, then the neighborhood will be the same as the borough. So for the 9th cell in the table on the Wikipedia page, the value of the Borough and the Neighborhood columns will be Queen's Park.\nfor index, row in df.iterrows():\n    if (row[\"Neighborhood\"] == \"Not assigned\"):\n        row[\"Neighborhood\"] = row[\"Borough\"]\n\ndf[df[\"PostalCode\"]==\"M7A\"]"
        }, 
        {
            "execution_count": 29, 
            "cell_type": "code", 
            "metadata": {}, 
            "outputs": [
                {
                    "execution_count": 29, 
                    "metadata": {}, 
                    "data": {
                        "text/html": "<div>\n<style scoped>\n    .dataframe tbody tr th:only-of-type {\n        vertical-align: middle;\n    }\n\n    .dataframe tbody tr th {\n        vertical-align: top;\n    }\n\n    .dataframe thead th {\n        text-align: right;\n    }\n</style>\n<table border=\"1\" class=\"dataframe\">\n  <thead>\n    <tr style=\"text-align: right;\">\n      <th></th>\n      <th>PostalCode</th>\n      <th>Borough</th>\n      <th>Neighborhood</th>\n    </tr>\n  </thead>\n  <tbody>\n    <tr>\n      <th>0</th>\n      <td>M1B</td>\n      <td>Scarborough</td>\n      <td>Rouge, Malvern</td>\n    </tr>\n    <tr>\n      <th>1</th>\n      <td>M1C</td>\n      <td>Scarborough</td>\n      <td>Highland Creek, Rouge Hill, Port Union</td>\n    </tr>\n    <tr>\n      <th>2</th>\n      <td>M1E</td>\n      <td>Scarborough</td>\n      <td>Guildwood, Morningside, West Hill</td>\n    </tr>\n    <tr>\n      <th>3</th>\n      <td>M1G</td>\n      <td>Scarborough</td>\n      <td>Woburn</td>\n    </tr>\n    <tr>\n      <th>4</th>\n      <td>M1H</td>\n      <td>Scarborough</td>\n      <td>Cedarbrae</td>\n    </tr>\n  </tbody>\n</table>\n</div>", 
                        "text/plain": "  PostalCode      Borough                            Neighborhood\n0        M1B  Scarborough                          Rouge, Malvern\n1        M1C  Scarborough  Highland Creek, Rouge Hill, Port Union\n2        M1E  Scarborough       Guildwood, Morningside, West Hill\n3        M1G  Scarborough                                  Woburn\n4        M1H  Scarborough                               Cedarbrae"
                    }, 
                    "output_type": "execute_result"
                }
            ], 
            "source": "# More than one neighborhood can exist in one postal code area. For example, in the table on the Wikipedia page, you will notice that M5A is listed twice and has two neighborhoods: Harbourfront and Regent Park. These two rows will be combined into one row with the neighborhoods separated with a comma as shown in row 11 in the above table.\ndf = df.groupby([\"PostalCode\", \"Borough\"]).agg({\"Neighborhood\": \", \".join}).reset_index()\ndf.head()"
        }, 
        {
            "execution_count": 30, 
            "cell_type": "code", 
            "metadata": {}, 
            "outputs": [
                {
                    "execution_count": 30, 
                    "metadata": {}, 
                    "data": {
                        "text/html": "<div>\n<style scoped>\n    .dataframe tbody tr th:only-of-type {\n        vertical-align: middle;\n    }\n\n    .dataframe tbody tr th {\n        vertical-align: top;\n    }\n\n    .dataframe thead th {\n        text-align: right;\n    }\n</style>\n<table border=\"1\" class=\"dataframe\">\n  <thead>\n    <tr style=\"text-align: right;\">\n      <th></th>\n      <th>PostalCode</th>\n      <th>Borough</th>\n      <th>Neighborhood</th>\n    </tr>\n  </thead>\n  <tbody>\n    <tr>\n      <th>53</th>\n      <td>M5A</td>\n      <td>Downtown Toronto</td>\n      <td>Harbourfront, Regent Park</td>\n    </tr>\n  </tbody>\n</table>\n</div>", 
                        "text/plain": "   PostalCode           Borough               Neighborhood\n53        M5A  Downtown Toronto  Harbourfront, Regent Park"
                    }, 
                    "output_type": "execute_result"
                }
            ], 
            "source": "df[df[\"PostalCode\"]==\"M5A\"]"
        }, 
        {
            "execution_count": 31, 
            "cell_type": "code", 
            "metadata": {}, 
            "outputs": [
                {
                    "execution_count": 31, 
                    "metadata": {}, 
                    "data": {
                        "text/plain": "(103, 3)"
                    }, 
                    "output_type": "execute_result"
                }
            ], 
            "source": "df.shape"
        }, 
        {
            "source": "### Get the latitude and the longitude coordinates of each neighborhood. ", 
            "cell_type": "markdown", 
            "metadata": {}
        }, 
        {
            "execution_count": 32, 
            "cell_type": "code", 
            "metadata": {}, 
            "outputs": [
                {
                    "output_type": "stream", 
                    "name": "stdout", 
                    "text": "Requirement not upgraded as not directly required: geocoder in /opt/conda/envs/DSX-Python35/lib/python3.5/site-packages\r\nRequirement not upgraded as not directly required: six in /opt/conda/envs/DSX-Python35/lib/python3.5/site-packages (from geocoder)\r\nRequirement not upgraded as not directly required: requests in /opt/conda/envs/DSX-Python35/lib/python3.5/site-packages (from geocoder)\r\nRequirement not upgraded as not directly required: ratelim in /opt/conda/envs/DSX-Python35/lib/python3.5/site-packages (from geocoder)\r\nRequirement not upgraded as not directly required: click in /opt/conda/envs/DSX-Python35/lib/python3.5/site-packages (from geocoder)\r\nRequirement not upgraded as not directly required: future in /opt/conda/envs/DSX-Python35/lib/python3.5/site-packages (from geocoder)\r\nRequirement not upgraded as not directly required: chardet<3.1.0,>=3.0.2 in /opt/conda/envs/DSX-Python35/lib/python3.5/site-packages (from requests->geocoder)\r\nRequirement not upgraded as not directly required: idna<2.7,>=2.5 in /opt/conda/envs/DSX-Python35/lib/python3.5/site-packages (from requests->geocoder)\r\nRequirement not upgraded as not directly required: urllib3<1.23,>=1.21.1 in /opt/conda/envs/DSX-Python35/lib/python3.5/site-packages (from requests->geocoder)\r\nRequirement not upgraded as not directly required: certifi>=2017.4.17 in /opt/conda/envs/DSX-Python35/lib/python3.5/site-packages (from requests->geocoder)\r\nRequirement not upgraded as not directly required: decorator in /opt/conda/envs/DSX-Python35/lib/python3.5/site-packages (from ratelim->geocoder)\r\n"
                }
            ], 
            "source": "!pip install geocoder"
        }, 
        {
            "execution_count": 33, 
            "cell_type": "code", 
            "metadata": {}, 
            "outputs": [], 
            "source": "import geocoder # import geocoder\n\ndef getCoordinates(postal_code):\n    # initialize your variable to None\n    lat_lng_coords = None\n\n    # loop until you get the coordinates\n    while(lat_lng_coords is None):\n      g = geocoder.google('{}, Toronto, Ontario'.format(postal_code))\n      lat_lng_coords = g.latlng\n\n    latitude = lat_lng_coords[0]\n    longitude = lat_lng_coords[1]\n\n    print(latitude)\n    print(longitude)\n    return latitude, longitude"
        }, 
        {
            "source": "Unfortunately the geocoder is very unreliable and hangs a lot.  Use the provided csv instead", 
            "cell_type": "markdown", 
            "metadata": {}
        }, 
        {
            "execution_count": 34, 
            "cell_type": "code", 
            "metadata": {}, 
            "outputs": [
                {
                    "output_type": "stream", 
                    "name": "stdout", 
                    "text": "--2019-02-19 15:48:38--  https://cocl.us/Geospatial_data\nResolving cocl.us (cocl.us)... 169.48.113.201\nConnecting to cocl.us (cocl.us)|169.48.113.201|:443... connected.\nHTTP request sent, awaiting response... 301 Moved Permanently\nLocation: https://ibm.box.com/shared/static/9afzr83pps4pwf2smjjcf1y5mvgb18rr.csv [following]\n--2019-02-19 15:48:39--  https://ibm.box.com/shared/static/9afzr83pps4pwf2smjjcf1y5mvgb18rr.csv\nResolving ibm.box.com (ibm.box.com)... 107.152.25.197, 107.152.24.197\nConnecting to ibm.box.com (ibm.box.com)|107.152.25.197|:443... connected.\nHTTP request sent, awaiting response... 301 Moved Permanently\nLocation: /public/static/9afzr83pps4pwf2smjjcf1y5mvgb18rr.csv [following]\n--2019-02-19 15:48:39--  https://ibm.box.com/public/static/9afzr83pps4pwf2smjjcf1y5mvgb18rr.csv\nReusing existing connection to ibm.box.com:443.\nHTTP request sent, awaiting response... 301 Moved Permanently\nLocation: https://ibm.ent.box.com/public/static/9afzr83pps4pwf2smjjcf1y5mvgb18rr.csv [following]\n--2019-02-19 15:48:39--  https://ibm.ent.box.com/public/static/9afzr83pps4pwf2smjjcf1y5mvgb18rr.csv\nResolving ibm.ent.box.com (ibm.ent.box.com)... 107.152.26.211\nConnecting to ibm.ent.box.com (ibm.ent.box.com)|107.152.26.211|:443... connected.\nHTTP request sent, awaiting response... 302 Found\nLocation: https://public.boxcloud.com/d/1/b1!T-Z1usVW9_nHpI59J5Pb4t6WtXr1k53WFQJVRXak4ZdeFYlqD9DI4eLI-T2yZMemN4QMRF4sq3EP5wzJ6olahoD-UrZJrcWkQXB7i5A8hP7C7CMxLgAq9-gTFnX-C1KpsKQG05_ml-W8uq_iUVz2VTuCBOGXsMk1Gz9M-AK8gT4rIG8zfGMgpn4SxQWhLhtRMAFMj0FNnIjB79MnkW-xpWqTAxGahcFAEQyU4LM0k3ZO2rzMp5jg_d05OJBYzXE8UQClz6GzknIUEhAGkcNU7TeokciS0efSbflbbLceTdg4_5WxlAzMwP5asvkgpNNTVcPlHY4_O_ZNyoHb6gNrW2CQpkfw1wQtKMPzhCdDjI3X0macSw9sKzV5bqzQ0nEa7CEh4WY3rmDftxhfRCZX-O-_0qpGRM_ua77XkQ7dJSrtQ2jh5mE_yhrUzF9Bxx_RNSeAe9USuFFtwHu-X0B384FOC_2F-YHxmrpglcP7boyzc23oNO3S0iY5S3QUouwoOg6zETSqNIeUNr4dmI5dff7ToU-WLX2cmuI1kMKyo2hMFjU6pcUxQoGez6oorTx3x_Rpr9zj1Pi2KZl97gKtoJBikhD2xASrFkh6uZ4PSlaifGgB5eS9sZO_0La2P1w6jyxI4WJUHkUNjfQkQjJJ4lyFl9z7_Llu11whSejCeClO4meZJxG7C0Q86IvDldk2y1g2lD8kDWfPd05CSgIw3Gf-NQX5vnFDhnz75zsJ40iJUX4WU5I1N6X2_khO20vw6cgV2WdHZ1TKX89J8Svp5xRQaLnAEuf0CBU_GpH2x5niRqqULrGihDkm-IfWgPaQ1ZhYbHRjGsVljOg897Goy-x6c74XlO6Qf3p_U9_THrW6HZUPIzBo2-DGjXWCNSw0VX1plDMQd_b__154I7-L7TUjWBtPSF4eqh_IgOocKNON9veuMPy3Lgcb3vcAXfYdfpWTRL8Zxj44Ljvc-0TMChHwRCOlufiJ-pYMHhHCWwlEu80D-vcb24NFEQ66e8dltKuipMxeueq97jNVFKZf2MBMjQl9W_j_bBge7Zd0tT4ZmJShnsGMoBfiSVrfxBmDk3Kew_njGXQUmMyzqfjrvLUoJ6As-Zo2Pc5r1Z-RyxY0DtceUuW_OjwM491AdP7hAg4ZyAPS6Co3IT8TDYkeoKKXeJCqyyaicE_87oqwIslIE-Vc8_0xG-xlYryC8mkIR_4vIj9dVu_FMJeB6fNXC6098-r_Ds2qsD5jNDfi8WRy4QsmnCz2BGDwZUCx-SL4UvwNjW8I5LrUkcpC-xNkZP1CPN-ACwtKh1_Bd68AWApNzePUBcTx9Qfuh_OaEvxYYDxaTZwsH-CFxSPy4dr8wQyMn61-UTLaBBP9gm3N8iriASI./download [following]\n--2019-02-19 15:48:40--  https://public.boxcloud.com/d/1/b1!T-Z1usVW9_nHpI59J5Pb4t6WtXr1k53WFQJVRXak4ZdeFYlqD9DI4eLI-T2yZMemN4QMRF4sq3EP5wzJ6olahoD-UrZJrcWkQXB7i5A8hP7C7CMxLgAq9-gTFnX-C1KpsKQG05_ml-W8uq_iUVz2VTuCBOGXsMk1Gz9M-AK8gT4rIG8zfGMgpn4SxQWhLhtRMAFMj0FNnIjB79MnkW-xpWqTAxGahcFAEQyU4LM0k3ZO2rzMp5jg_d05OJBYzXE8UQClz6GzknIUEhAGkcNU7TeokciS0efSbflbbLceTdg4_5WxlAzMwP5asvkgpNNTVcPlHY4_O_ZNyoHb6gNrW2CQpkfw1wQtKMPzhCdDjI3X0macSw9sKzV5bqzQ0nEa7CEh4WY3rmDftxhfRCZX-O-_0qpGRM_ua77XkQ7dJSrtQ2jh5mE_yhrUzF9Bxx_RNSeAe9USuFFtwHu-X0B384FOC_2F-YHxmrpglcP7boyzc23oNO3S0iY5S3QUouwoOg6zETSqNIeUNr4dmI5dff7ToU-WLX2cmuI1kMKyo2hMFjU6pcUxQoGez6oorTx3x_Rpr9zj1Pi2KZl97gKtoJBikhD2xASrFkh6uZ4PSlaifGgB5eS9sZO_0La2P1w6jyxI4WJUHkUNjfQkQjJJ4lyFl9z7_Llu11whSejCeClO4meZJxG7C0Q86IvDldk2y1g2lD8kDWfPd05CSgIw3Gf-NQX5vnFDhnz75zsJ40iJUX4WU5I1N6X2_khO20vw6cgV2WdHZ1TKX89J8Svp5xRQaLnAEuf0CBU_GpH2x5niRqqULrGihDkm-IfWgPaQ1ZhYbHRjGsVljOg897Goy-x6c74XlO6Qf3p_U9_THrW6HZUPIzBo2-DGjXWCNSw0VX1plDMQd_b__154I7-L7TUjWBtPSF4eqh_IgOocKNON9veuMPy3Lgcb3vcAXfYdfpWTRL8Zxj44Ljvc-0TMChHwRCOlufiJ-pYMHhHCWwlEu80D-vcb24NFEQ66e8dltKuipMxeueq97jNVFKZf2MBMjQl9W_j_bBge7Zd0tT4ZmJShnsGMoBfiSVrfxBmDk3Kew_njGXQUmMyzqfjrvLUoJ6As-Zo2Pc5r1Z-RyxY0DtceUuW_OjwM491AdP7hAg4ZyAPS6Co3IT8TDYkeoKKXeJCqyyaicE_87oqwIslIE-Vc8_0xG-xlYryC8mkIR_4vIj9dVu_FMJeB6fNXC6098-r_Ds2qsD5jNDfi8WRy4QsmnCz2BGDwZUCx-SL4UvwNjW8I5LrUkcpC-xNkZP1CPN-ACwtKh1_Bd68AWApNzePUBcTx9Qfuh_OaEvxYYDxaTZwsH-CFxSPy4dr8wQyMn61-UTLaBBP9gm3N8iriASI./download\nResolving public.boxcloud.com (public.boxcloud.com)... 107.152.24.200, 107.152.25.200\nConnecting to public.boxcloud.com (public.boxcloud.com)|107.152.24.200|:443... connected.\nHTTP request sent, awaiting response... 200 OK\nLength: 2891 (2.8K) [text/csv]\nSaving to: \u2018Geospatial_data.csv\u2019\n\n100%[======================================>] 2,891       --.-K/s   in 0s      \n\n2019-02-19 15:48:41 (481 MB/s) - \u2018Geospatial_data.csv\u2019 saved [2891/2891]\n\n"
                }
            ], 
            "source": "!wget \"https://cocl.us/Geospatial_data\" -O \"Geospatial_data.csv\""
        }, 
        {
            "execution_count": 35, 
            "cell_type": "code", 
            "metadata": {}, 
            "outputs": [
                {
                    "execution_count": 35, 
                    "metadata": {}, 
                    "data": {
                        "text/html": "<div>\n<style scoped>\n    .dataframe tbody tr th:only-of-type {\n        vertical-align: middle;\n    }\n\n    .dataframe tbody tr th {\n        vertical-align: top;\n    }\n\n    .dataframe thead th {\n        text-align: right;\n    }\n</style>\n<table border=\"1\" class=\"dataframe\">\n  <thead>\n    <tr style=\"text-align: right;\">\n      <th></th>\n      <th>Postal Code</th>\n      <th>Latitude</th>\n      <th>Longitude</th>\n    </tr>\n  </thead>\n  <tbody>\n    <tr>\n      <th>0</th>\n      <td>M1B</td>\n      <td>43.806686</td>\n      <td>-79.194353</td>\n    </tr>\n    <tr>\n      <th>1</th>\n      <td>M1C</td>\n      <td>43.784535</td>\n      <td>-79.160497</td>\n    </tr>\n    <tr>\n      <th>2</th>\n      <td>M1E</td>\n      <td>43.763573</td>\n      <td>-79.188711</td>\n    </tr>\n    <tr>\n      <th>3</th>\n      <td>M1G</td>\n      <td>43.770992</td>\n      <td>-79.216917</td>\n    </tr>\n    <tr>\n      <th>4</th>\n      <td>M1H</td>\n      <td>43.773136</td>\n      <td>-79.239476</td>\n    </tr>\n  </tbody>\n</table>\n</div>", 
                        "text/plain": "  Postal Code   Latitude  Longitude\n0         M1B  43.806686 -79.194353\n1         M1C  43.784535 -79.160497\n2         M1E  43.763573 -79.188711\n3         M1G  43.770992 -79.216917\n4         M1H  43.773136 -79.239476"
                    }, 
                    "output_type": "execute_result"
                }
            ], 
            "source": "geo_data = pd.read_csv(\"Geospatial_data.csv\")\ngeo_data.head()"
        }, 
        {
            "execution_count": 37, 
            "cell_type": "code", 
            "metadata": {}, 
            "outputs": [
                {
                    "execution_count": 37, 
                    "metadata": {}, 
                    "data": {
                        "text/html": "<div>\n<style scoped>\n    .dataframe tbody tr th:only-of-type {\n        vertical-align: middle;\n    }\n\n    .dataframe tbody tr th {\n        vertical-align: top;\n    }\n\n    .dataframe thead th {\n        text-align: right;\n    }\n</style>\n<table border=\"1\" class=\"dataframe\">\n  <thead>\n    <tr style=\"text-align: right;\">\n      <th></th>\n      <th>PostalCode</th>\n      <th>Borough</th>\n      <th>Neighborhood</th>\n      <th>Postal Code</th>\n      <th>Latitude</th>\n      <th>Longitude</th>\n    </tr>\n  </thead>\n  <tbody>\n    <tr>\n      <th>0</th>\n      <td>M1B</td>\n      <td>Scarborough</td>\n      <td>Rouge, Malvern</td>\n      <td>M1B</td>\n      <td>43.806686</td>\n      <td>-79.194353</td>\n    </tr>\n    <tr>\n      <th>1</th>\n      <td>M1C</td>\n      <td>Scarborough</td>\n      <td>Highland Creek, Rouge Hill, Port Union</td>\n      <td>M1C</td>\n      <td>43.784535</td>\n      <td>-79.160497</td>\n    </tr>\n    <tr>\n      <th>2</th>\n      <td>M1E</td>\n      <td>Scarborough</td>\n      <td>Guildwood, Morningside, West Hill</td>\n      <td>M1E</td>\n      <td>43.763573</td>\n      <td>-79.188711</td>\n    </tr>\n    <tr>\n      <th>3</th>\n      <td>M1G</td>\n      <td>Scarborough</td>\n      <td>Woburn</td>\n      <td>M1G</td>\n      <td>43.770992</td>\n      <td>-79.216917</td>\n    </tr>\n    <tr>\n      <th>4</th>\n      <td>M1H</td>\n      <td>Scarborough</td>\n      <td>Cedarbrae</td>\n      <td>M1H</td>\n      <td>43.773136</td>\n      <td>-79.239476</td>\n    </tr>\n  </tbody>\n</table>\n</div>", 
                        "text/plain": "  PostalCode      Borough                            Neighborhood Postal Code  \\\n0        M1B  Scarborough                          Rouge, Malvern         M1B   \n1        M1C  Scarborough  Highland Creek, Rouge Hill, Port Union         M1C   \n2        M1E  Scarborough       Guildwood, Morningside, West Hill         M1E   \n3        M1G  Scarborough                                  Woburn         M1G   \n4        M1H  Scarborough                               Cedarbrae         M1H   \n\n    Latitude  Longitude  \n0  43.806686 -79.194353  \n1  43.784535 -79.160497  \n2  43.763573 -79.188711  \n3  43.770992 -79.216917  \n4  43.773136 -79.239476  "
                    }, 
                    "output_type": "execute_result"
                }
            ], 
            "source": "df2 = df.join(other=geo_data, how=\"left\")\ndf2.head()"
        }, 
        {
            "execution_count": 39, 
            "cell_type": "code", 
            "metadata": {}, 
            "outputs": [
                {
                    "execution_count": 39, 
                    "metadata": {}, 
                    "data": {
                        "text/html": "<div>\n<style scoped>\n    .dataframe tbody tr th:only-of-type {\n        vertical-align: middle;\n    }\n\n    .dataframe tbody tr th {\n        vertical-align: top;\n    }\n\n    .dataframe thead th {\n        text-align: right;\n    }\n</style>\n<table border=\"1\" class=\"dataframe\">\n  <thead>\n    <tr style=\"text-align: right;\">\n      <th></th>\n      <th>PostalCode</th>\n      <th>Borough</th>\n      <th>Neighborhood</th>\n      <th>Postal Code</th>\n      <th>Latitude</th>\n      <th>Longitude</th>\n    </tr>\n  </thead>\n  <tbody>\n    <tr>\n      <th>57</th>\n      <td>M5G</td>\n      <td>Downtown Toronto</td>\n      <td>Central Bay Street</td>\n      <td>M5G</td>\n      <td>43.657952</td>\n      <td>-79.387383</td>\n    </tr>\n  </tbody>\n</table>\n</div>", 
                        "text/plain": "   PostalCode           Borough        Neighborhood Postal Code   Latitude  \\\n57        M5G  Downtown Toronto  Central Bay Street         M5G  43.657952   \n\n    Longitude  \n57 -79.387383  "
                    }, 
                    "output_type": "execute_result"
                }
            ], 
            "source": "## Compare against the sample\ndf2[df2[\"PostalCode\"]==\"M5G\"]"
        }, 
        {
            "execution_count": 40, 
            "cell_type": "code", 
            "metadata": {}, 
            "outputs": [
                {
                    "execution_count": 40, 
                    "metadata": {}, 
                    "data": {
                        "text/html": "<div>\n<style scoped>\n    .dataframe tbody tr th:only-of-type {\n        vertical-align: middle;\n    }\n\n    .dataframe tbody tr th {\n        vertical-align: top;\n    }\n\n    .dataframe thead th {\n        text-align: right;\n    }\n</style>\n<table border=\"1\" class=\"dataframe\">\n  <thead>\n    <tr style=\"text-align: right;\">\n      <th></th>\n      <th>PostalCode</th>\n      <th>Borough</th>\n      <th>Neighborhood</th>\n      <th>Postal Code</th>\n      <th>Latitude</th>\n      <th>Longitude</th>\n    </tr>\n  </thead>\n  <tbody>\n    <tr>\n      <th>53</th>\n      <td>M5A</td>\n      <td>Downtown Toronto</td>\n      <td>Harbourfront, Regent Park</td>\n      <td>M5A</td>\n      <td>43.65426</td>\n      <td>-79.360636</td>\n    </tr>\n  </tbody>\n</table>\n</div>", 
                        "text/plain": "   PostalCode           Borough               Neighborhood Postal Code  \\\n53        M5A  Downtown Toronto  Harbourfront, Regent Park         M5A   \n\n    Latitude  Longitude  \n53  43.65426 -79.360636  "
                    }, 
                    "output_type": "execute_result"
                }
            ], 
            "source": "df2[df2[\"PostalCode\"]==\"M5A\"]"
        }, 
        {
            "execution_count": 41, 
            "cell_type": "code", 
            "metadata": {}, 
            "outputs": [
                {
                    "execution_count": 41, 
                    "metadata": {}, 
                    "data": {
                        "text/plain": "(103, 6)"
                    }, 
                    "output_type": "execute_result"
                }
            ], 
            "source": "df2.shape"
        }, 
        {
            "execution_count": null, 
            "cell_type": "code", 
            "metadata": {}, 
            "outputs": [], 
            "source": ""
        }
    ], 
    "metadata": {
        "kernelspec": {
            "display_name": "Python 3.5", 
            "name": "python3", 
            "language": "python"
        }, 
        "language_info": {
            "mimetype": "text/x-python", 
            "nbconvert_exporter": "python", 
            "version": "3.5.5", 
            "name": "python", 
            "file_extension": ".py", 
            "pygments_lexer": "ipython3", 
            "codemirror_mode": {
                "version": 3, 
                "name": "ipython"
            }
        }
    }, 
    "nbformat": 4
}